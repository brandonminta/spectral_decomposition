{
 "cells": [
  {
   "cell_type": "code",
   "execution_count": 1,
   "id": "3a3c2252",
   "metadata": {},
   "outputs": [],
   "source": [
    "import numpy as np\n",
    "import matplotlib.pyplot as plt\n",
    "import os\n",
    "import math\n",
    "import h5py\n",
    "from astropy.io import fits\n",
    "from astropy.convolution import Gaussian1DKernel, convolve\n",
    "from scipy import interpolate\n",
    "import pickle\n",
    "import random"
   ]
  },
  {
   "cell_type": "code",
   "execution_count": 2,
   "id": "5101f5b2",
   "metadata": {},
   "outputs": [],
   "source": [
    "# Directory path where your files are located\n",
    "directory_path_h = '../ASKAP_spectra/Hydra'\n",
    "directory_path_n= '../ASKAP_spectra/Norma'\n",
    "\n",
    "# Common part of the filename\n",
    "common_part = '_askap_spectrum.txt'\n",
    "\n",
    "# List all files in the Hydra directory that contain the common part\n",
    "all_files_h = [f for f in os.listdir(directory_path_h) if common_part in f]\n",
    "\n",
    "# List all files in the Norma directory that contain the common part\n",
    "all_files_n = [k for k in os.listdir(directory_path_n) if common_part in k]\n"
   ]
  },
  {
   "cell_type": "code",
   "execution_count": 3,
   "id": "145746d2-00e8-4f34-aa46-b2189846af41",
   "metadata": {},
   "outputs": [
    {
     "data": {
      "text/plain": [
       "53"
      ]
     },
     "execution_count": 3,
     "metadata": {},
     "output_type": "execute_result"
    }
   ],
   "source": [
    "len(all_files_h)"
   ]
  },
  {
   "cell_type": "code",
   "execution_count": 4,
   "id": "5c225959-3edd-4d84-a5f4-0f67ee1a1b5e",
   "metadata": {},
   "outputs": [
    {
     "data": {
      "text/plain": [
       "297"
      ]
     },
     "execution_count": 4,
     "metadata": {},
     "output_type": "execute_result"
    }
   ],
   "source": [
    "len(all_files_n)"
   ]
  },
  {
   "cell_type": "markdown",
   "id": "bd0e2881-7401-4479-a3ca-7450bc329492",
   "metadata": {
    "jp-MarkdownHeadingCollapsed": true
   },
   "source": [
    "### Test"
   ]
  },
  {
   "cell_type": "code",
   "execution_count": null,
   "id": "1336758f-5f50-4ec0-96e8-ce337d5f2fb1",
   "metadata": {},
   "outputs": [],
   "source": [
    "all_files_h[0]"
   ]
  },
  {
   "cell_type": "code",
   "execution_count": null,
   "id": "9edfde1a-9c69-4512-a080-9e814994c925",
   "metadata": {},
   "outputs": [],
   "source": [
    "all_files_n[0]"
   ]
  },
  {
   "cell_type": "code",
   "execution_count": null,
   "id": "d00a13b9-5dd6-4cf2-83eb-3be6829084ad",
   "metadata": {},
   "outputs": [],
   "source": [
    "data = np.loadtxt(f'{directory_path_n}/{all_files_n[4]}', skiprows=1)"
   ]
  },
  {
   "cell_type": "code",
   "execution_count": null,
   "id": "6d8d4e1f-26fa-44cb-aa4d-0160040b6f89",
   "metadata": {},
   "outputs": [],
   "source": [
    "velocity = data[:, 1]\n",
    "amplitude = data[:, 2]\n",
    "\n",
    "#Measue variability\n",
    "rms_spect = np.sqrt(np.mean(amplitude**2))\n",
    "\n",
    "#Mask signal channels\n",
    "spectrum = np.copy(amplitude)\n",
    "spectrum[spectrum < rms_spect - (np.max(spectrum)-rms_spect) ] = rms_spect\n",
    "\n",
    "#Normalization\n",
    "y = spectrum\n",
    "x = velocity\n",
    "pars = np.polyfit(x, y, 1)\n",
    "p = np.poly1d(pars)\n",
    "tauhi = np.array(amplitude/p(x))\n",
    "\n",
    "# Tau\n",
    "tau = np.log(tauhi)*(-1)\n",
    "rms = np.std(tau)\n",
    "#Smoothing\n",
    "g = Gaussian1DKernel(1)\n",
    "tau_smooth = convolve(tau, g, boundary='extend')\n",
    "rms_smooth = np.std(tau_smooth)"
   ]
  },
  {
   "cell_type": "code",
   "execution_count": null,
   "id": "cd4c3152-a551-4de9-a7c5-765a45f4f7ec",
   "metadata": {},
   "outputs": [],
   "source": [
    "fig, (ax1, ax2) = plt.subplots(2, 1, figsize=(12, 8), gridspec_kw={'height_ratios': [2, 1]})\n",
    "\n",
    "# Plot signals on ax1\n",
    "ax1.plot(x, tau, ':', linewidth=1, color='b', label='Signal')\n",
    "ax1.plot(x, tau_smooth, '-', linewidth=1, color='r', label='Smoothed')\n",
    "ax1.axhspan(-3*rms_smooth, 3*rms_smooth, alpha=0.2, color='g')\n",
    "ax1.axhline(0, color='k', linestyle='--', linewidth=2)\n",
    "#ax1.axhline(rms_smooth * 3, color='k', linestyle='--', linewidth=1)\n",
    "ax1.set_ylabel(r'${\\tau}$', fontsize=15)\n",
    "ax1.grid(True)\n",
    "ax1.legend()\n",
    "\n",
    "# Plot on ax2\n",
    "ax2.plot(x, tauhi, color='g')\n",
    "ax2.axhspan(1 - 3*np.std(tauhi), 1 + 3*np.std(tauhi), alpha=0.2, color='grey')\n",
    "ax2.axhline(1, color='k', linestyle='--', linewidth=2)\n",
    "\n",
    "# Identify points where tauhi is below the threshold\n",
    "below_threshold = tauhi < (1 - 3 * np.std(tauhi))\n",
    "ax2.plot(x[below_threshold], tauhi[below_threshold], 'ro')  # Mark points in red\n",
    "\n",
    "# Set labels\n",
    "ax2.set_xlabel('v [Km/s]', fontsize=15)\n",
    "ax2.set_ylabel(r'$e^{-\\tau}$', fontsize=15)\n",
    "\n",
    "# Show the plot\n",
    "plt.show()\n",
    "\n"
   ]
  },
  {
   "cell_type": "markdown",
   "id": "606d4a2e-7b7a-4365-a9ee-8dac2b1fa44a",
   "metadata": {
    "jp-MarkdownHeadingCollapsed": true
   },
   "source": [
    "### Ploting"
   ]
  },
  {
   "cell_type": "code",
   "execution_count": null,
   "id": "2f31809d-5f50-4b16-b75f-6fd77a225654",
   "metadata": {},
   "outputs": [],
   "source": [
    "def plot_spectra(files_spectra,directory_path, gkernel, image_name=None, source=None):\n",
    "    # Calculate the number of rows and columns for subplots\n",
    "    num_files = len(files_spectra)\n",
    "    num_rows = int(np.ceil(num_files / 3))  # 3 subplots per row\n",
    "\n",
    "    # Create a single figure with multiple subplots\n",
    "    fig, axes = plt.subplots(num_rows, 3, figsize=(18, 8*num_rows))\n",
    "    axes = axes.flatten()  # Flatten the 2D array of axes for easier iteration\n",
    "\n",
    "    # Iterate through matching files and create subplots for each file\n",
    "    for i, file_name in enumerate(files_spectra):\n",
    "        # Construct the full file path\n",
    "        file_path = os.path.join(directory_path, file_name)\n",
    "\n",
    "        # Read data from the text file into a NumPy array, skipping the header row\n",
    "        data = np.loadtxt(file_path, skiprows=1)\n",
    "\n",
    "        # Extract velocity and amplitude columns\n",
    "        velocity = data[:, 1]\n",
    "        amplitude = data[:, 2]\n",
    "        \n",
    "        # Measure variability\n",
    "        rms_spect = np.sqrt(np.mean(amplitude**2))\n",
    "        \n",
    "        # Mask signal channels\n",
    "        spectrum = np.copy(amplitude)\n",
    "        spectrum[spectrum < rms_spect - (np.max(spectrum) - rms_spect)] = rms_spect\n",
    "        \n",
    "        # Normalization\n",
    "        y = spectrum\n",
    "        x = velocity\n",
    "        pars = np.polyfit(x, y, 1)\n",
    "        p = np.poly1d(pars)\n",
    "        tauhi = np.array(amplitude / p(x))\n",
    "        \n",
    "        # Tau\n",
    "        tau = np.log(tauhi) * (-1)\n",
    "        rms = np.std(tau)\n",
    "        \n",
    "        # Smoothing\n",
    "        g = Gaussian1DKernel(gkernel)\n",
    "        tau_smooth = convolve(tau, g, boundary='extend')\n",
    "        rms_smooth = np.std(tau_smooth)\n",
    "\n",
    "        # Create a nested grid within each subplot\n",
    "        outer_ax = axes[i]\n",
    "        gs = outer_ax.get_gridspec()\n",
    "        outer_ax.remove()\n",
    "\n",
    "        inner_gs = gs[i].subgridspec(2, 1, height_ratios=[3, 1])\n",
    "        ax1 = fig.add_subplot(inner_gs[0])\n",
    "        ax2 = fig.add_subplot(inner_gs[1])\n",
    "\n",
    "        # Plotting the first panel\n",
    "        ax1.plot(x, tau, linestyle=':', linewidth=1, color='b', alpha = 0.6, label='Signal')\n",
    "        ax1.plot(x, tau_smooth, linestyle='-', linewidth=1, color='r', label=f'Gaussian kernel {gkernel}')\n",
    "        ax1.axhspan(-3*rms_smooth, 3*rms_smooth, alpha=0.2, color='g')\n",
    "        ax1.axhline(0, color='k', linestyle='--', linewidth=2)\n",
    "        ax1.set_ylabel(r'${\\tau}$', fontsize=15)\n",
    "        ax1.grid(True)\n",
    "        ax1.legend()\n",
    "        ax1.set_title(f'File: {file_name}')\n",
    "\n",
    "        # Plotting the second panel\n",
    "        ax2.plot(x, tauhi, color='g')\n",
    "        ax2.axhspan(1 - 3*np.std(tauhi), 1 + 3*np.std(tauhi), alpha=0.2, color='grey')\n",
    "        ax2.axhline(1, color='k', linestyle='--', linewidth=2)\n",
    "        ax2.set_xlabel('v[Km/s]', fontsize=15)\n",
    "        ax2.set_ylabel(r'$e^{-\\tau}$')\n",
    "\n",
    "        # Title for the overall plot area\n",
    "        #outer_ax.set_title(f'File: {file_name}')\n",
    "\n",
    "    # Hide any remaining empty subplots, if any\n",
    "    for j in range(num_files, num_rows * 3):\n",
    "        fig.delaxes(axes[j])\n",
    "\n",
    "    # Adjust layout and display the figure\n",
    "    plt.tight_layout()\n",
    "    if image_name is not None:\n",
    "        # Ensure the output directory exists\n",
    "        output_dir = os.path.join('Images', source)  # Change Norma or Hydra\n",
    "        os.makedirs(output_dir, exist_ok=True)\n",
    "\n",
    "        # Save the figure\n",
    "        output_path = os.path.join(output_dir, f'{image_name}.png')\n",
    "        plt.savefig(output_path)\n",
    "\n",
    "    plt.show()\n"
   ]
  },
  {
   "cell_type": "code",
   "execution_count": null,
   "id": "f44e1076",
   "metadata": {
    "scrolled": true
   },
   "outputs": [],
   "source": [
    "random_samples_n = random.sample(all_files_n, 12)\n",
    "plot_spectra(random_samples_n, directory_path_n, 3)"
   ]
  },
  {
   "cell_type": "code",
   "execution_count": null,
   "id": "51376b3a",
   "metadata": {
    "scrolled": true
   },
   "outputs": [],
   "source": [
    "random_samples_h = random.sample(all_files_h, 12)\n",
    "plot_spectra(random_samples_h, directory_path_h, 1)\n",
    "#plot_spectra(files_spectra_v2,2, 'spectra_v2_g2',source_name)"
   ]
  },
  {
   "cell_type": "markdown",
   "id": "f06561f3-c9fa-4bdb-b4c9-e94397f65b5f",
   "metadata": {},
   "source": [
    "## Arrays"
   ]
  },
  {
   "cell_type": "code",
   "execution_count": 33,
   "id": "7627e6ea",
   "metadata": {},
   "outputs": [],
   "source": [
    "a, b = 6, 9\n",
    "spect_h = np.zeros((270, a, b))            #Resolution of 4 km/s \n",
    "spect_h_smooth = np.zeros((270, a, b))     #Resolution of 4 km/s Smoothed\n",
    "files_h = {}                        #Dictionary for source's name"
   ]
  },
  {
   "cell_type": "code",
   "execution_count": 34,
   "id": "dc830bb7",
   "metadata": {},
   "outputs": [],
   "source": [
    "c, d = 17, 18\n",
    "spect_n = np.zeros((270, c, d))            #Resolution of 4 km/s \n",
    "spect_n_smooth = np.zeros((270, c, d))     #Resolution of 4 km/s Smoothed\n",
    "files_n = {}      "
   ]
  },
  {
   "cell_type": "markdown",
   "id": "7b7cf23f",
   "metadata": {},
   "source": [
    "### Hydra"
   ]
  },
  {
   "cell_type": "code",
   "execution_count": 35,
   "id": "a1d594c4",
   "metadata": {
    "scrolled": true
   },
   "outputs": [],
   "source": [
    "gkernel = 1\n",
    "\n",
    "for i, file_name in enumerate(all_files_h):\n",
    "    # Construct the full file path\n",
    "    file_path = os.path.join(directory_path_h, file_name)\n",
    "    \n",
    "    # Read data from the text file into a NumPy array, skipping the header row\n",
    "    data = np.loadtxt(file_path, skiprows=1)\n",
    "\n",
    "    # Extract velocity and amplitude columns\n",
    "    velocity = data[:, 1]\n",
    "    amplitude = data[:, 2]\n",
    "    \n",
    "    #Measue variability\n",
    "    rms_spect = np.sqrt(np.mean(amplitude**2))\n",
    "    \n",
    "    #Mask signal channels\n",
    "    spectrum = np.copy(amplitude)\n",
    "    spectrum[spectrum < rms_spect - (np.max(spectrum)-rms_spect) ] = rms_spect\n",
    "    \n",
    "    #Normalization\n",
    "    y = spectrum\n",
    "    x = velocity\n",
    "    pars = np.polyfit(x, y, 1)\n",
    "    p = np.poly1d(pars)\n",
    "    tauhi = np.array(amplitude/p(x))\n",
    "    \n",
    "    # Tau\n",
    "    tau = np.log(tauhi)*(-1)\n",
    "    rms = np.std(tau)\n",
    "    #Smoothing\n",
    "    g = Gaussian1DKernel(gkernel)\n",
    "    tau_smooth = convolve(tau, g, boundary='extend')\n",
    "\n",
    "    if i == 0:\n",
    "        crval3_h = velocity[-1]\n",
    "    \n",
    "    # Calculate indices for atca_spect_v2\n",
    "    index1 = i // b  # Row index\n",
    "    index2 = i % b   # Column index\n",
    "    \n",
    "    # Assign tauhi values to atca_spect_v2 at specified indices\n",
    "    #we reversed the array since we took the initial velocity form the end of the file\n",
    "    tau_reversed_h = tau[::-1]\n",
    "    spect_h[:,index1, index2] = tau_reversed_h\n",
    "    tau_smooth_reversed_h = tau_smooth[::-1]\n",
    "    spect_h_smooth[:, index1, index2] = tau_smooth_reversed_h\n",
    "\n",
    "    # Fits transpose the axis\n",
    "    files_h[file_name.split('_askap_spectrum.txt')[0]] = {\"pos\":(index2, index1), \"vel\": velocity[-1]} "
   ]
  },
  {
   "cell_type": "markdown",
   "id": "e756f0b2-a386-45e1-a347-b9b968a9e318",
   "metadata": {},
   "source": [
    "### Norma"
   ]
  },
  {
   "cell_type": "code",
   "execution_count": 36,
   "id": "3d3fce35",
   "metadata": {},
   "outputs": [
    {
     "name": "stderr",
     "output_type": "stream",
     "text": [
      "/tmp/ipykernel_8340/1962712418.py:27: RuntimeWarning: invalid value encountered in log\n",
      "  tau = np.log(tauhi)*(-1)\n"
     ]
    }
   ],
   "source": [
    "\n",
    "for i, file_name in enumerate(all_files_n):\n",
    "    # Construct the full file path\n",
    "    file_path = os.path.join(directory_path_n, file_name)\n",
    "    \n",
    "    # Read data from the text file into a NumPy array, skipping the header row\n",
    "    data = np.loadtxt(file_path, skiprows=1)\n",
    "\n",
    "    # Extract velocity and amplitude columns\n",
    "    velocity = data[:, 1]\n",
    "    amplitude = data[:, 2]\n",
    "    \n",
    "    #Measue variability\n",
    "    rms_spect = np.sqrt(np.mean(amplitude**2))\n",
    "    \n",
    "    #Mask signal channels\n",
    "    spectrum = np.copy(amplitude)\n",
    "    spectrum[spectrum < rms_spect - (np.max(spectrum)-rms_spect) ] = rms_spect\n",
    "    \n",
    "    #Normalization\n",
    "    y = spectrum\n",
    "    x = velocity\n",
    "    pars = np.polyfit(x, y, 1)\n",
    "    p = np.poly1d(pars)\n",
    "    tauhi = np.array(amplitude/p(x))\n",
    "    \n",
    "    # Tau\n",
    "    tau = np.log(tauhi)*(-1)\n",
    "    rms = np.std(tau)\n",
    "    #Smoothing\n",
    "    g = Gaussian1DKernel(gkernel)\n",
    "    tau_smooth = convolve(tau, g, boundary='extend')\n",
    "\n",
    "    if i == 0:\n",
    "        crval3_n = velocity[-1]\n",
    "    \n",
    "    # Calculate indices for atca_spect_v2\n",
    "    index1 = i // d  # Row index\n",
    "    index2 = i % d   # Column index\n",
    "    \n",
    "    tau_reversed_n = tau[::-1]\n",
    "    spect_n[:,index1, index2] = tau_reversed_n\n",
    "    tau_smooth_reversed_n = tau_smooth[::-1]\n",
    "    spect_n_smooth[:, index1, index2] = tau_smooth_reversed_n\n",
    "\n",
    "\n",
    "    # Fits transpose the axis\n",
    "    files_n[file_name.split('_askap_spectrum.txt')[0]] = {\"pos\":(index2, index1),  \"vel\": velocity[-1]} "
   ]
  },
  {
   "cell_type": "code",
   "execution_count": 37,
   "id": "357f9208",
   "metadata": {},
   "outputs": [
    {
     "name": "stdout",
     "output_type": "stream",
     "text": [
      "There are NaN values in the array.\n"
     ]
    }
   ],
   "source": [
    "# Assuming your array is named 'data'\n",
    "if np.any(np.isnan(spect_n)):\n",
    "    print(\"There are NaN values in the array.\")\n",
    "else:\n",
    "    print(\"There are no NaN values in the array.\")"
   ]
  },
  {
   "cell_type": "markdown",
   "id": "af8746d4",
   "metadata": {
    "scrolled": true
   },
   "source": [
    "### Interpolatation"
   ]
  },
  {
   "cell_type": "code",
   "execution_count": 38,
   "id": "366ae2e2",
   "metadata": {},
   "outputs": [],
   "source": [
    "# Function to interpolate NaNs\n",
    "def interpolate_nans(arr):\n",
    "    \"\"\"\n",
    "    Interpolate NaN values in a 2D array along the rows.\n",
    "    \n",
    "    Parameters:\n",
    "    arr (ndarray): Input array with NaNs to interpolate.\n",
    "\n",
    "    Returns:\n",
    "    ndarray: Array with NaNs interpolated.\n",
    "    \"\"\"\n",
    "    \n",
    "    # Indices where NaNs are present\n",
    "    nans = np.isnan(arr)\n",
    "    # Indices where NaNs are not present\n",
    "    x = np.arange(arr.shape[0])\n",
    "    for i in range(arr.shape[1]):\n",
    "        if np.any(nans[:, i]):\n",
    "            valid = ~nans[:, i]\n",
    "            arr[nans[:, i], i] = np.interp(x[nans[:, i]], x[valid], arr[valid, i])\n",
    "    return arr\n"
   ]
  },
  {
   "cell_type": "code",
   "execution_count": 39,
   "id": "fdede423",
   "metadata": {},
   "outputs": [],
   "source": [
    "spect_n = spect_n.reshape(270, -1)\n",
    "spect_n= interpolate_nans(spect_n)\n",
    "\n",
    "# Reshape back to the original shape \n",
    "spect_n = spect_n.reshape(270, c, d)"
   ]
  },
  {
   "cell_type": "markdown",
   "id": "fe58dbec",
   "metadata": {},
   "source": [
    "### Creation of FITS file"
   ]
  },
  {
   "cell_type": "code",
   "execution_count": 40,
   "id": "1b14e433",
   "metadata": {},
   "outputs": [
    {
     "name": "stdout",
     "output_type": "stream",
     "text": [
      "ASKAP cube for Norma field:  (270, 17, 18)\n",
      "ASKAP cube for Hydra field  (270, 6, 9)\n"
     ]
    }
   ],
   "source": [
    "print(\"ASKAP cube for Norma field: \", spect_n_smooth.shape)\n",
    "print(\"ASKAP cube for Hydra field \", spect_h_smooth.shape)"
   ]
  },
  {
   "cell_type": "code",
   "execution_count": 41,
   "id": "e6f06559",
   "metadata": {},
   "outputs": [
    {
     "name": "stdout",
     "output_type": "stream",
     "text": [
      "-446.17191362022163 -437.311662453059\n"
     ]
    }
   ],
   "source": [
    "print(crval3_h,\n",
    "      crval3_n)"
   ]
  },
  {
   "cell_type": "code",
   "execution_count": 26,
   "id": "235d5405",
   "metadata": {},
   "outputs": [],
   "source": [
    "def fits_cube(data_cube, CDELT3, CRVAL3, name, source):\n",
    "    # Create a new FITS HDU object from the NumPy \n",
    "    hdu = fits.PrimaryHDU(data_cube)\n",
    "\n",
    "    hdu.header['NAXIS'] = 3\n",
    "    hdu.header['NAXIS1'] = data_cube.shape[1]\n",
    "    hdu.header['NAXIS2'] = data_cube.shape[2]\n",
    "    hdu.header['NAXIS3'] = data_cube.shape[0]\n",
    "\n",
    "\n",
    "    hdu.header['CRPIX1'] = 1.0e+00\n",
    "    hdu.header['CDELT1'] = 1.0e+00\n",
    "    hdu.header['CRVAL1'] = 1.0e+00\n",
    "    hdu.header['CTYPE1']  = 'RA---NCP'\n",
    "    hdu.header['CUNIT1'] = 'deg'\n",
    "\n",
    "    hdu.header['CRPIX2'] = 1.0e+00\n",
    "    hdu.header['CDELT2'] = 1.0e+00\n",
    "    hdu.header['CRVAL2'] = 1.0e+00\n",
    "    hdu.header['CTYPE2']  = 'DEC--NCP'\n",
    "    hdu.header['CUNIT2'] = 'deg'\n",
    "\n",
    "\n",
    "    hdu.header['CRPIX3']  = 1.0e+00\n",
    "    hdu.header['CDELT3'] = CDELT3      #km/s\n",
    "    hdu.header['CTYPE3']  = 'VELO-LSR'\n",
    "    hdu.header['CRVAL3'] = CRVAL3      #km/s\n",
    "    hdu.header['CUNIT3'] = 'km/s' \n",
    "    \n",
    "    hdu.header['DATAMIN'] =  np.nanmin(data_cube)                        \n",
    "    hdu.header['DATAMAX'] =  np.nanmax(data_cube)   \n",
    "    \n",
    "    hdu.header['SPECSYS'] = 'LSRK' \n",
    "    hdu.header['BUNIT'] = 'JY/BEAM '                                                                                                                                                                                                                                                                                                          \n",
    "\n",
    "\n",
    "    # Save the FITS file\n",
    "    hdu.writeto(f'{source}/{name}.fits', overwrite=True)\n"
   ]
  },
  {
   "cell_type": "code",
   "execution_count": 27,
   "id": "f2ad3ec7",
   "metadata": {},
   "outputs": [],
   "source": [
    "fits_cube(spect_n,  3.908539639005994 , crval3_n, 'spectra_norma_raw', 'ASKAP')\n",
    "fits_cube(spect_h, 3.908539639005994 , crval3_h, 'spectra_hydra_raw', 'ASKAP')\n"
   ]
  },
  {
   "cell_type": "code",
   "execution_count": 42,
   "id": "527de433-30d3-4cd1-b2da-424a1d98887a",
   "metadata": {},
   "outputs": [],
   "source": [
    "\n",
    "with open('../Data_cubes/ASKAP/coordinates_hydra.pkl', 'wb') as f:\n",
    "    pickle.dump(files_h, f)\n",
    "\n",
    "with open('../Data_cubes/ASKAP/coordinates_norma.pkl', 'wb') as f:\n",
    "    pickle.dump(files_n, f)\n"
   ]
  },
  {
   "cell_type": "markdown",
   "id": "b7ee2e54",
   "metadata": {},
   "source": [
    "## Checking"
   ]
  },
  {
   "cell_type": "code",
   "execution_count": 29,
   "id": "c1244dd7",
   "metadata": {
    "scrolled": true
   },
   "outputs": [
    {
     "name": "stdout",
     "output_type": "stream",
     "text": [
      "Filename: ASKAP/spectra_norma_raw.fits\n",
      "No.    Name      Ver    Type      Cards   Dimensions   Format\n",
      "  0  PRIMARY       1 PrimaryHDU      26   (18, 17, 270)   float64   \n",
      "SIMPLE  =                    T / conforms to FITS standard                      BITPIX  =                  -64 / array data type                                NAXIS   =                    3 / number of array dimensions                     NAXIS1  =                   18                                                  NAXIS2  =                   17                                                  NAXIS3  =                  270                                                  EXTEND  =                    T                                                  CRPIX1  =                  1.0                                                  CDELT1  =                  1.0                                                  CRVAL1  =                  1.0                                                  CTYPE1  = 'RA---NCP'                                                            CUNIT1  = 'deg     '                                                            CRPIX2  =                  1.0                                                  CDELT2  =                  1.0                                                  CRVAL2  =                  1.0                                                  CTYPE2  = 'DEC--NCP'                                                            CUNIT2  = 'deg     '                                                            CRPIX3  =                  1.0                                                  CDELT3  =    3.908539639005994                                                  CTYPE3  = 'VELO-LSR'                                                            CRVAL3  =    -437.311662453059                                                  CUNIT3  = 'km/s    '                                                            DATAMIN =   -0.439703473208517                                                  DATAMAX =    2.713423663111428                                                  SPECSYS = 'LSRK    '                                                            BUNIT   = 'JY/BEAM '                                                            END                                                                                                                                                                                                                                                                                                                                                                                                                                                                                                                                                                                                                                                                                                                                                                                                                             \n",
      "Data shape: (270, 17, 18)\n",
      "Data type: >f8\n",
      "Filename: ASKAP/spectra_hydra_raw.fits\n",
      "No.    Name      Ver    Type      Cards   Dimensions   Format\n",
      "  0  PRIMARY       1 PrimaryHDU      26   (9, 6, 270)   float64   \n",
      "SIMPLE  =                    T / conforms to FITS standard                      BITPIX  =                  -64 / array data type                                NAXIS   =                    3 / number of array dimensions                     NAXIS1  =                    9                                                  NAXIS2  =                    6                                                  NAXIS3  =                  270                                                  EXTEND  =                    T                                                  CRPIX1  =                  1.0                                                  CDELT1  =                  1.0                                                  CRVAL1  =                  1.0                                                  CTYPE1  = 'RA---NCP'                                                            CUNIT1  = 'deg     '                                                            CRPIX2  =                  1.0                                                  CDELT2  =                  1.0                                                  CRVAL2  =                  1.0                                                  CTYPE2  = 'DEC--NCP'                                                            CUNIT2  = 'deg     '                                                            CRPIX3  =                  1.0                                                  CDELT3  =    3.908539639005994                                                  CTYPE3  = 'VELO-LSR'                                                            CRVAL3  =   -446.1719136202216                                                  CUNIT3  = 'km/s    '                                                            DATAMIN =  -0.1766366367078214                                                  DATAMAX =   0.5193835777113023                                                  SPECSYS = 'LSRK    '                                                            BUNIT   = 'JY/BEAM '                                                            END                                                                                                                                                                                                                                                                                                                                                                                                                                                                                                                                                                                                                                                                                                                                                                                                                             \n",
      "Data shape: (270, 6, 9)\n",
      "Data type: >f8\n"
     ]
    }
   ],
   "source": [
    "from spectral_cube import SpectralCube\n",
    "\n",
    "# Path to the FITS file\n",
    "file_path1 = 'ASKAP/spectra_norma_raw.fits'\n",
    "file_path2 = 'ASKAP/spectra_hydra_raw.fits'\n",
    "\n",
    "\n",
    "cube1 = SpectralCube.read(file_path1)\n",
    "cube2 = SpectralCube.read(file_path2)\n",
    "# Open the FITS file\n",
    "with fits.open(file_path1) as hdul:\n",
    "    # Print the information about the FITS file\n",
    "    hdul.info()\n",
    "    \n",
    "    # Access the primary HDU (Header/Data Unit)\n",
    "    primary_hdu1 = hdul[0]\n",
    "    \n",
    "    # Print the header of the primary HDU\n",
    "    print(primary_hdu1.header)\n",
    "    \n",
    "    # Access the data in the primary HDU\n",
    "    data1 = primary_hdu1.data\n",
    "\n",
    "# Display some basic information about the data\n",
    "print(f'Data shape: {data1.shape}')\n",
    "print(f'Data type: {data1.dtype}')\n",
    "\n",
    "# Open the FITS file\n",
    "with fits.open(file_path2) as hdul:\n",
    "    # Print the information about the FITS file\n",
    "    hdul.info()\n",
    "    \n",
    "    # Access the primary HDU (Header/Data Unit)\n",
    "    primary_hdu2 = hdul[0]\n",
    "    \n",
    "    # Print the header of the primary HDU\n",
    "    print(primary_hdu2.header)\n",
    "    \n",
    "    # Access the data in the primary HDU\n",
    "    data2 = primary_hdu2.data\n",
    "\n",
    "# Display some basic information about the data\n",
    "print(f'Data shape: {data2.shape}')\n",
    "print(f'Data type: {data2.dtype}')\n"
   ]
  },
  {
   "cell_type": "code",
   "execution_count": 30,
   "id": "a1f3dfb8-114e-427e-8451-aba31836b715",
   "metadata": {},
   "outputs": [
    {
     "data": {
      "text/latex": [
       "$[-437.31166,~-433.40312,~-429.49458,~\\dots,~606.26842,~610.17696,~614.0855] \\; \\mathrm{\\frac{km}{s}}$"
      ],
      "text/plain": [
       "<Quantity [-4.37311662e+02, -4.33403123e+02, -4.29494583e+02,\n",
       "           -4.25586044e+02, -4.21677504e+02, -4.17768964e+02,\n",
       "           -4.13860425e+02, -4.09951885e+02, -4.06043345e+02,\n",
       "           -4.02134806e+02, -3.98226266e+02, -3.94317726e+02,\n",
       "           -3.90409187e+02, -3.86500647e+02, -3.82592108e+02,\n",
       "           -3.78683568e+02, -3.74775028e+02, -3.70866489e+02,\n",
       "           -3.66957949e+02, -3.63049409e+02, -3.59140870e+02,\n",
       "           -3.55232330e+02, -3.51323790e+02, -3.47415251e+02,\n",
       "           -3.43506711e+02, -3.39598171e+02, -3.35689632e+02,\n",
       "           -3.31781092e+02, -3.27872553e+02, -3.23964013e+02,\n",
       "           -3.20055473e+02, -3.16146934e+02, -3.12238394e+02,\n",
       "           -3.08329854e+02, -3.04421315e+02, -3.00512775e+02,\n",
       "           -2.96604235e+02, -2.92695696e+02, -2.88787156e+02,\n",
       "           -2.84878617e+02, -2.80970077e+02, -2.77061537e+02,\n",
       "           -2.73152998e+02, -2.69244458e+02, -2.65335918e+02,\n",
       "           -2.61427379e+02, -2.57518839e+02, -2.53610299e+02,\n",
       "           -2.49701760e+02, -2.45793220e+02, -2.41884681e+02,\n",
       "           -2.37976141e+02, -2.34067601e+02, -2.30159062e+02,\n",
       "           -2.26250522e+02, -2.22341982e+02, -2.18433443e+02,\n",
       "           -2.14524903e+02, -2.10616363e+02, -2.06707824e+02,\n",
       "           -2.02799284e+02, -1.98890744e+02, -1.94982205e+02,\n",
       "           -1.91073665e+02, -1.87165126e+02, -1.83256586e+02,\n",
       "           -1.79348046e+02, -1.75439507e+02, -1.71530967e+02,\n",
       "           -1.67622427e+02, -1.63713888e+02, -1.59805348e+02,\n",
       "           -1.55896808e+02, -1.51988269e+02, -1.48079729e+02,\n",
       "           -1.44171190e+02, -1.40262650e+02, -1.36354110e+02,\n",
       "           -1.32445571e+02, -1.28537031e+02, -1.24628491e+02,\n",
       "           -1.20719952e+02, -1.16811412e+02, -1.12902872e+02,\n",
       "           -1.08994333e+02, -1.05085793e+02, -1.01177253e+02,\n",
       "           -9.72687139e+01, -9.33601742e+01, -8.94516346e+01,\n",
       "           -8.55430949e+01, -8.16345553e+01, -7.77260157e+01,\n",
       "           -7.38174760e+01, -6.99089364e+01, -6.60003967e+01,\n",
       "           -6.20918571e+01, -5.81833175e+01, -5.42747778e+01,\n",
       "           -5.03662382e+01, -4.64576986e+01, -4.25491589e+01,\n",
       "           -3.86406193e+01, -3.47320796e+01, -3.08235400e+01,\n",
       "           -2.69150004e+01, -2.30064607e+01, -1.90979211e+01,\n",
       "           -1.51893814e+01, -1.12808418e+01, -7.37230216e+00,\n",
       "           -3.46376252e+00,  4.44777116e-01,  4.35331675e+00,\n",
       "            8.26185639e+00,  1.21703960e+01,  1.60789357e+01,\n",
       "            1.99874753e+01,  2.38960149e+01,  2.78045546e+01,\n",
       "            3.17130942e+01,  3.56216339e+01,  3.95301735e+01,\n",
       "            4.34387131e+01,  4.73472528e+01,  5.12557924e+01,\n",
       "            5.51643321e+01,  5.90728717e+01,  6.29814113e+01,\n",
       "            6.68899510e+01,  7.07984906e+01,  7.47070303e+01,\n",
       "            7.86155699e+01,  8.25241095e+01,  8.64326492e+01,\n",
       "            9.03411888e+01,  9.42497285e+01,  9.81582681e+01,\n",
       "            1.02066808e+02,  1.05975347e+02,  1.09883887e+02,\n",
       "            1.13792427e+02,  1.17700966e+02,  1.21609506e+02,\n",
       "            1.25518046e+02,  1.29426585e+02,  1.33335125e+02,\n",
       "            1.37243664e+02,  1.41152204e+02,  1.45060744e+02,\n",
       "            1.48969283e+02,  1.52877823e+02,  1.56786363e+02,\n",
       "            1.60694902e+02,  1.64603442e+02,  1.68511982e+02,\n",
       "            1.72420521e+02,  1.76329061e+02,  1.80237601e+02,\n",
       "            1.84146140e+02,  1.88054680e+02,  1.91963219e+02,\n",
       "            1.95871759e+02,  1.99780299e+02,  2.03688838e+02,\n",
       "            2.07597378e+02,  2.11505918e+02,  2.15414457e+02,\n",
       "            2.19322997e+02,  2.23231537e+02,  2.27140076e+02,\n",
       "            2.31048616e+02,  2.34957155e+02,  2.38865695e+02,\n",
       "            2.42774235e+02,  2.46682774e+02,  2.50591314e+02,\n",
       "            2.54499854e+02,  2.58408393e+02,  2.62316933e+02,\n",
       "            2.66225473e+02,  2.70134012e+02,  2.74042552e+02,\n",
       "            2.77951091e+02,  2.81859631e+02,  2.85768171e+02,\n",
       "            2.89676710e+02,  2.93585250e+02,  2.97493790e+02,\n",
       "            3.01402329e+02,  3.05310869e+02,  3.09219409e+02,\n",
       "            3.13127948e+02,  3.17036488e+02,  3.20945028e+02,\n",
       "            3.24853567e+02,  3.28762107e+02,  3.32670646e+02,\n",
       "            3.36579186e+02,  3.40487726e+02,  3.44396265e+02,\n",
       "            3.48304805e+02,  3.52213345e+02,  3.56121884e+02,\n",
       "            3.60030424e+02,  3.63938964e+02,  3.67847503e+02,\n",
       "            3.71756043e+02,  3.75664582e+02,  3.79573122e+02,\n",
       "            3.83481662e+02,  3.87390201e+02,  3.91298741e+02,\n",
       "            3.95207281e+02,  3.99115820e+02,  4.03024360e+02,\n",
       "            4.06932900e+02,  4.10841439e+02,  4.14749979e+02,\n",
       "            4.18658518e+02,  4.22567058e+02,  4.26475598e+02,\n",
       "            4.30384137e+02,  4.34292677e+02,  4.38201217e+02,\n",
       "            4.42109756e+02,  4.46018296e+02,  4.49926836e+02,\n",
       "            4.53835375e+02,  4.57743915e+02,  4.61652455e+02,\n",
       "            4.65560994e+02,  4.69469534e+02,  4.73378073e+02,\n",
       "            4.77286613e+02,  4.81195153e+02,  4.85103692e+02,\n",
       "            4.89012232e+02,  4.92920772e+02,  4.96829311e+02,\n",
       "            5.00737851e+02,  5.04646391e+02,  5.08554930e+02,\n",
       "            5.12463470e+02,  5.16372009e+02,  5.20280549e+02,\n",
       "            5.24189089e+02,  5.28097628e+02,  5.32006168e+02,\n",
       "            5.35914708e+02,  5.39823247e+02,  5.43731787e+02,\n",
       "            5.47640327e+02,  5.51548866e+02,  5.55457406e+02,\n",
       "            5.59365945e+02,  5.63274485e+02,  5.67183025e+02,\n",
       "            5.71091564e+02,  5.75000104e+02,  5.78908644e+02,\n",
       "            5.82817183e+02,  5.86725723e+02,  5.90634263e+02,\n",
       "            5.94542802e+02,  5.98451342e+02,  6.02359882e+02,\n",
       "            6.06268421e+02,  6.10176961e+02,  6.14085500e+02] km / s>"
      ]
     },
     "execution_count": 30,
     "metadata": {},
     "output_type": "execute_result"
    }
   ],
   "source": [
    "cube1.spectral_axis"
   ]
  },
  {
   "cell_type": "code",
   "execution_count": 31,
   "id": "b4adc254",
   "metadata": {},
   "outputs": [
    {
     "data": {
      "text/latex": [
       "$[-446.17191,~-442.26337,~-438.35483,~\\dots,~597.40817,~601.31671,~605.22525] \\; \\mathrm{\\frac{km}{s}}$"
      ],
      "text/plain": [
       "<Quantity [-4.46171914e+02, -4.42263374e+02, -4.38354834e+02,\n",
       "           -4.34446295e+02, -4.30537755e+02, -4.26629215e+02,\n",
       "           -4.22720676e+02, -4.18812136e+02, -4.14903597e+02,\n",
       "           -4.10995057e+02, -4.07086517e+02, -4.03177978e+02,\n",
       "           -3.99269438e+02, -3.95360898e+02, -3.91452359e+02,\n",
       "           -3.87543819e+02, -3.83635279e+02, -3.79726740e+02,\n",
       "           -3.75818200e+02, -3.71909660e+02, -3.68001121e+02,\n",
       "           -3.64092581e+02, -3.60184042e+02, -3.56275502e+02,\n",
       "           -3.52366962e+02, -3.48458423e+02, -3.44549883e+02,\n",
       "           -3.40641343e+02, -3.36732804e+02, -3.32824264e+02,\n",
       "           -3.28915724e+02, -3.25007185e+02, -3.21098645e+02,\n",
       "           -3.17190106e+02, -3.13281566e+02, -3.09373026e+02,\n",
       "           -3.05464487e+02, -3.01555947e+02, -2.97647407e+02,\n",
       "           -2.93738868e+02, -2.89830328e+02, -2.85921788e+02,\n",
       "           -2.82013249e+02, -2.78104709e+02, -2.74196170e+02,\n",
       "           -2.70287630e+02, -2.66379090e+02, -2.62470551e+02,\n",
       "           -2.58562011e+02, -2.54653471e+02, -2.50744932e+02,\n",
       "           -2.46836392e+02, -2.42927852e+02, -2.39019313e+02,\n",
       "           -2.35110773e+02, -2.31202233e+02, -2.27293694e+02,\n",
       "           -2.23385154e+02, -2.19476615e+02, -2.15568075e+02,\n",
       "           -2.11659535e+02, -2.07750996e+02, -2.03842456e+02,\n",
       "           -1.99933916e+02, -1.96025377e+02, -1.92116837e+02,\n",
       "           -1.88208297e+02, -1.84299758e+02, -1.80391218e+02,\n",
       "           -1.76482679e+02, -1.72574139e+02, -1.68665599e+02,\n",
       "           -1.64757060e+02, -1.60848520e+02, -1.56939980e+02,\n",
       "           -1.53031441e+02, -1.49122901e+02, -1.45214361e+02,\n",
       "           -1.41305822e+02, -1.37397282e+02, -1.33488742e+02,\n",
       "           -1.29580203e+02, -1.25671663e+02, -1.21763124e+02,\n",
       "           -1.17854584e+02, -1.13946044e+02, -1.10037505e+02,\n",
       "           -1.06128965e+02, -1.02220425e+02, -9.83118857e+01,\n",
       "           -9.44033461e+01, -9.04948065e+01, -8.65862668e+01,\n",
       "           -8.26777272e+01, -7.87691876e+01, -7.48606479e+01,\n",
       "           -7.09521083e+01, -6.70435686e+01, -6.31350290e+01,\n",
       "           -5.92264894e+01, -5.53179497e+01, -5.14094101e+01,\n",
       "           -4.75008704e+01, -4.35923308e+01, -3.96837912e+01,\n",
       "           -3.57752515e+01, -3.18667119e+01, -2.79581722e+01,\n",
       "           -2.40496326e+01, -2.01410930e+01, -1.62325533e+01,\n",
       "           -1.23240137e+01, -8.41547405e+00, -4.50693441e+00,\n",
       "           -5.98394774e-01,  3.31014487e+00,  7.21868450e+00,\n",
       "            1.11272241e+01,  1.50357638e+01,  1.89443034e+01,\n",
       "            2.28528431e+01,  2.67613827e+01,  3.06699223e+01,\n",
       "            3.45784620e+01,  3.84870016e+01,  4.23955413e+01,\n",
       "            4.63040809e+01,  5.02126205e+01,  5.41211602e+01,\n",
       "            5.80296998e+01,  6.19382395e+01,  6.58467791e+01,\n",
       "            6.97553187e+01,  7.36638584e+01,  7.75723980e+01,\n",
       "            8.14809376e+01,  8.53894773e+01,  8.92980169e+01,\n",
       "            9.32065566e+01,  9.71150962e+01,  1.01023636e+02,\n",
       "            1.04932175e+02,  1.08840715e+02,  1.12749255e+02,\n",
       "            1.16657794e+02,  1.20566334e+02,  1.24474874e+02,\n",
       "            1.28383413e+02,  1.32291953e+02,  1.36200493e+02,\n",
       "            1.40109032e+02,  1.44017572e+02,  1.47926112e+02,\n",
       "            1.51834651e+02,  1.55743191e+02,  1.59651730e+02,\n",
       "            1.63560270e+02,  1.67468810e+02,  1.71377349e+02,\n",
       "            1.75285889e+02,  1.79194429e+02,  1.83102968e+02,\n",
       "            1.87011508e+02,  1.90920048e+02,  1.94828587e+02,\n",
       "            1.98737127e+02,  2.02645666e+02,  2.06554206e+02,\n",
       "            2.10462746e+02,  2.14371285e+02,  2.18279825e+02,\n",
       "            2.22188365e+02,  2.26096904e+02,  2.30005444e+02,\n",
       "            2.33913984e+02,  2.37822523e+02,  2.41731063e+02,\n",
       "            2.45639602e+02,  2.49548142e+02,  2.53456682e+02,\n",
       "            2.57365221e+02,  2.61273761e+02,  2.65182301e+02,\n",
       "            2.69090840e+02,  2.72999380e+02,  2.76907920e+02,\n",
       "            2.80816459e+02,  2.84724999e+02,  2.88633539e+02,\n",
       "            2.92542078e+02,  2.96450618e+02,  3.00359157e+02,\n",
       "            3.04267697e+02,  3.08176237e+02,  3.12084776e+02,\n",
       "            3.15993316e+02,  3.19901856e+02,  3.23810395e+02,\n",
       "            3.27718935e+02,  3.31627475e+02,  3.35536014e+02,\n",
       "            3.39444554e+02,  3.43353093e+02,  3.47261633e+02,\n",
       "            3.51170173e+02,  3.55078712e+02,  3.58987252e+02,\n",
       "            3.62895792e+02,  3.66804331e+02,  3.70712871e+02,\n",
       "            3.74621411e+02,  3.78529950e+02,  3.82438490e+02,\n",
       "            3.86347029e+02,  3.90255569e+02,  3.94164109e+02,\n",
       "            3.98072648e+02,  4.01981188e+02,  4.05889728e+02,\n",
       "            4.09798267e+02,  4.13706807e+02,  4.17615347e+02,\n",
       "            4.21523886e+02,  4.25432426e+02,  4.29340966e+02,\n",
       "            4.33249505e+02,  4.37158045e+02,  4.41066584e+02,\n",
       "            4.44975124e+02,  4.48883664e+02,  4.52792203e+02,\n",
       "            4.56700743e+02,  4.60609283e+02,  4.64517822e+02,\n",
       "            4.68426362e+02,  4.72334902e+02,  4.76243441e+02,\n",
       "            4.80151981e+02,  4.84060520e+02,  4.87969060e+02,\n",
       "            4.91877600e+02,  4.95786139e+02,  4.99694679e+02,\n",
       "            5.03603219e+02,  5.07511758e+02,  5.11420298e+02,\n",
       "            5.15328838e+02,  5.19237377e+02,  5.23145917e+02,\n",
       "            5.27054456e+02,  5.30962996e+02,  5.34871536e+02,\n",
       "            5.38780075e+02,  5.42688615e+02,  5.46597155e+02,\n",
       "            5.50505694e+02,  5.54414234e+02,  5.58322774e+02,\n",
       "            5.62231313e+02,  5.66139853e+02,  5.70048393e+02,\n",
       "            5.73956932e+02,  5.77865472e+02,  5.81774011e+02,\n",
       "            5.85682551e+02,  5.89591091e+02,  5.93499630e+02,\n",
       "            5.97408170e+02,  6.01316710e+02,  6.05225249e+02] km / s>"
      ]
     },
     "execution_count": 31,
     "metadata": {},
     "output_type": "execute_result"
    }
   ],
   "source": [
    "cube2.spectral_axis"
   ]
  },
  {
   "cell_type": "code",
   "execution_count": null,
   "id": "dd48fde0",
   "metadata": {},
   "outputs": [],
   "source": [
    "\n",
    "fig, (ax1, ax2) = plt.subplots(2, 1, figsize=(12, 8))\n",
    "ax1.plot(cube1.spectral_axis, data1[:,3,3], linestyle='-', linewidth=1, color='g', label='Signal')\n",
    "ax1.set_ylabel(r'$\\tau$', fontsize=15)\n",
    "ax1.grid(True)\n",
    "\n",
    "# Add legend\n",
    "ax1.legend()\n",
    "\n",
    "ax2.plot(data2[:,3,3], color = 'g', label ='Smoothed')\n",
    "ax2.set_xlabel('v[Km/s]', fontsize=15)\n",
    "ax2.set_ylabel(r'$\\tau$', fontsize=15)\n",
    "ax2.grid(True)\n",
    "\n",
    "plt.show()\n"
   ]
  },
  {
   "cell_type": "markdown",
   "id": "cf9b5b49-ba2a-4fd2-bd7c-4c66b8dbed5f",
   "metadata": {},
   "source": [
    "### Save Dictionaries "
   ]
  },
  {
   "cell_type": "code",
   "execution_count": null,
   "id": "a81c113a-4fb4-40b0-9f93-99ff3f8286cc",
   "metadata": {},
   "outputs": [],
   "source": []
  }
 ],
 "metadata": {
  "kernelspec": {
   "display_name": "Python 3 (ipykernel)",
   "language": "python",
   "name": "python3"
  },
  "language_info": {
   "codemirror_mode": {
    "name": "ipython",
    "version": 3
   },
   "file_extension": ".py",
   "mimetype": "text/x-python",
   "name": "python",
   "nbconvert_exporter": "python",
   "pygments_lexer": "ipython3",
   "version": "3.8.8"
  }
 },
 "nbformat": 4,
 "nbformat_minor": 5
}
